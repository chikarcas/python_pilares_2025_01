{
 "cells": [
  {
   "cell_type": "code",
   "execution_count": 2,
   "id": "f7b0f74a-21cc-4068-88cd-7320c77e8510",
   "metadata": {},
   "outputs": [],
   "source": [
    "import pandas as pd"
   ]
  },
  {
   "cell_type": "code",
   "execution_count": 12,
   "id": "c59252f0-6670-483f-8f34-95d93b513389",
   "metadata": {},
   "outputs": [],
   "source": [
    "serie= pd.Series(['perro', 'gato', 'leopardo', 'murcielago', 'pajaro'],  dtype=\"string\")"
   ]
  },
  {
   "cell_type": "code",
   "execution_count": 13,
   "id": "d2f3cbd6-0159-41b9-93df-c69a10d3bf28",
   "metadata": {},
   "outputs": [
    {
     "name": "stdout",
     "output_type": "stream",
     "text": [
      "0         perro\n",
      "1          gato\n",
      "2      leopardo\n",
      "3    murcielago\n",
      "4        pajaro\n",
      "dtype: string\n"
     ]
    }
   ],
   "source": [
    "print(serie)"
   ]
  },
  {
   "cell_type": "code",
   "execution_count": 16,
   "id": "2d2ae5ba-9fee-448d-b175-e4aea67c1bad",
   "metadata": {},
   "outputs": [],
   "source": [
    "s2= pd.Series({'perro':5, 'gato':9, \"leopardo\":7, 'murcielago':20, 'pajaro':1})"
   ]
  },
  {
   "cell_type": "code",
   "execution_count": 17,
   "id": "c855931b-7d26-4375-b2fb-23a8e9751978",
   "metadata": {},
   "outputs": [
    {
     "name": "stdout",
     "output_type": "stream",
     "text": [
      "perro          5\n",
      "gato           9\n",
      "leopardo       7\n",
      "murcielago    20\n",
      "pajaro         1\n",
      "dtype: int64\n"
     ]
    }
   ],
   "source": [
    "print(s2)"
   ]
  },
  {
   "cell_type": "code",
   "execution_count": 20,
   "id": "3e36e7df-f695-4be2-aa61-800e2f2078b3",
   "metadata": {},
   "outputs": [
    {
     "data": {
      "text/plain": [
       "5"
      ]
     },
     "execution_count": 20,
     "metadata": {},
     "output_type": "execute_result"
    }
   ],
   "source": [
    "serie.size"
   ]
  },
  {
   "cell_type": "code",
   "execution_count": 21,
   "id": "1203b8c4-9227-4385-8d71-df33fceca697",
   "metadata": {},
   "outputs": [
    {
     "data": {
      "text/plain": [
       "RangeIndex(start=0, stop=5, step=1)"
      ]
     },
     "execution_count": 21,
     "metadata": {},
     "output_type": "execute_result"
    }
   ],
   "source": [
    "serie.index"
   ]
  },
  {
   "cell_type": "code",
   "execution_count": 22,
   "id": "a4615a22-b6d8-4cf5-8bb6-83649781d879",
   "metadata": {},
   "outputs": [
    {
     "data": {
      "text/plain": [
       "string[python]"
      ]
     },
     "execution_count": 22,
     "metadata": {},
     "output_type": "execute_result"
    }
   ],
   "source": [
    "serie.dtype"
   ]
  },
  {
   "cell_type": "code",
   "execution_count": 27,
   "id": "03537a72-4a74-41c4-9ada-5f5c1b7b3f5c",
   "metadata": {},
   "outputs": [
    {
     "data": {
      "text/plain": [
       "np.int64(5)"
      ]
     },
     "execution_count": 27,
     "metadata": {},
     "output_type": "execute_result"
    }
   ],
   "source": [
    "s2['perro']"
   ]
  },
  {
   "cell_type": "code",
   "execution_count": 25,
   "id": "10e40cc6-7166-4ed5-8749-b4ea92676d22",
   "metadata": {},
   "outputs": [
    {
     "data": {
      "text/plain": [
       "Index(['perro', 'gato', 'leopardo', 'murcielago', 'pajaro'], dtype='object')"
      ]
     },
     "execution_count": 25,
     "metadata": {},
     "output_type": "execute_result"
    }
   ],
   "source": [
    "s2.index"
   ]
  },
  {
   "cell_type": "code",
   "execution_count": null,
   "id": "5074a163-3aee-4913-bf7a-241774b2a19b",
   "metadata": {},
   "outputs": [],
   "source": []
  }
 ],
 "metadata": {
  "kernelspec": {
   "display_name": "Python 3 (ipykernel)",
   "language": "python",
   "name": "python3"
  },
  "language_info": {
   "codemirror_mode": {
    "name": "ipython",
    "version": 3
   },
   "file_extension": ".py",
   "mimetype": "text/x-python",
   "name": "python",
   "nbconvert_exporter": "python",
   "pygments_lexer": "ipython3",
   "version": "3.13.4"
  }
 },
 "nbformat": 4,
 "nbformat_minor": 5
}
