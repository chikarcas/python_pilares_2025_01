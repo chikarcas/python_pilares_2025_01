{
 "cells": [
  {
   "cell_type": "code",
   "execution_count": 15,
   "id": "f7b0f74a-21cc-4068-88cd-7320c77e8510",
   "metadata": {},
   "outputs": [],
   "source": [
    "import pandas as pd\n",
    "import numpy as np"
   ]
  },
  {
   "cell_type": "code",
   "execution_count": 4,
   "id": "c59252f0-6670-483f-8f34-95d93b513389",
   "metadata": {},
   "outputs": [],
   "source": [
    "serie= pd.Series(['perro', 'gato', 'leopardo', 'murcielago', 'pajaro'],  dtype=\"string\")"
   ]
  },
  {
   "cell_type": "code",
   "execution_count": 5,
   "id": "d2f3cbd6-0159-41b9-93df-c69a10d3bf28",
   "metadata": {},
   "outputs": [
    {
     "name": "stdout",
     "output_type": "stream",
     "text": [
      "0         perro\n",
      "1          gato\n",
      "2      leopardo\n",
      "3    murcielago\n",
      "4        pajaro\n",
      "dtype: string\n"
     ]
    }
   ],
   "source": [
    "print(serie)"
   ]
  },
  {
   "cell_type": "code",
   "execution_count": 6,
   "id": "2d2ae5ba-9fee-448d-b175-e4aea67c1bad",
   "metadata": {},
   "outputs": [],
   "source": [
    "s2= pd.Series({'perro':5, 'gato':9, \"leopardo\":7, 'murcielago':20, 'pajaro':1})"
   ]
  },
  {
   "cell_type": "code",
   "execution_count": 7,
   "id": "c855931b-7d26-4375-b2fb-23a8e9751978",
   "metadata": {},
   "outputs": [
    {
     "name": "stdout",
     "output_type": "stream",
     "text": [
      "perro          5\n",
      "gato           9\n",
      "leopardo       7\n",
      "murcielago    20\n",
      "pajaro         1\n",
      "dtype: int64\n"
     ]
    }
   ],
   "source": [
    "print(s2)"
   ]
  },
  {
   "cell_type": "code",
   "execution_count": 8,
   "id": "3e36e7df-f695-4be2-aa61-800e2f2078b3",
   "metadata": {},
   "outputs": [
    {
     "data": {
      "text/plain": [
       "5"
      ]
     },
     "execution_count": 8,
     "metadata": {},
     "output_type": "execute_result"
    }
   ],
   "source": [
    "serie.size"
   ]
  },
  {
   "cell_type": "code",
   "execution_count": 9,
   "id": "1203b8c4-9227-4385-8d71-df33fceca697",
   "metadata": {},
   "outputs": [
    {
     "data": {
      "text/plain": [
       "RangeIndex(start=0, stop=5, step=1)"
      ]
     },
     "execution_count": 9,
     "metadata": {},
     "output_type": "execute_result"
    }
   ],
   "source": [
    "serie.index"
   ]
  },
  {
   "cell_type": "code",
   "execution_count": 10,
   "id": "a4615a22-b6d8-4cf5-8bb6-83649781d879",
   "metadata": {},
   "outputs": [
    {
     "data": {
      "text/plain": [
       "string[python]"
      ]
     },
     "execution_count": 10,
     "metadata": {},
     "output_type": "execute_result"
    }
   ],
   "source": [
    "serie.dtype"
   ]
  },
  {
   "cell_type": "code",
   "execution_count": 11,
   "id": "03537a72-4a74-41c4-9ada-5f5c1b7b3f5c",
   "metadata": {},
   "outputs": [
    {
     "data": {
      "text/plain": [
       "np.int64(5)"
      ]
     },
     "execution_count": 11,
     "metadata": {},
     "output_type": "execute_result"
    }
   ],
   "source": [
    "s2['perro']"
   ]
  },
  {
   "cell_type": "code",
   "execution_count": 12,
   "id": "10e40cc6-7166-4ed5-8749-b4ea92676d22",
   "metadata": {},
   "outputs": [
    {
     "data": {
      "text/plain": [
       "Index(['perro', 'gato', 'leopardo', 'murcielago', 'pajaro'], dtype='object')"
      ]
     },
     "execution_count": 12,
     "metadata": {},
     "output_type": "execute_result"
    }
   ],
   "source": [
    "s2.index"
   ]
  },
  {
   "cell_type": "code",
   "execution_count": 16,
   "id": "5074a163-3aee-4913-bf7a-241774b2a19b",
   "metadata": {},
   "outputs": [
    {
     "data": {
      "text/plain": [
       "perro         0.283662\n",
       "gato         -0.911130\n",
       "leopardo      0.753902\n",
       "murcielago    0.408082\n",
       "pajaro        0.540302\n",
       "dtype: float64"
      ]
     },
     "execution_count": 16,
     "metadata": {},
     "output_type": "execute_result"
    }
   ],
   "source": [
    "s2.apply(np.cos)"
   ]
  },
  {
   "cell_type": "code",
   "execution_count": 18,
   "id": "8db77de8-6f4a-4e3e-be62-4e9f451be9f0",
   "metadata": {},
   "outputs": [
    {
     "data": {
      "text/plain": [
       "perro          5\n",
       "gato           9\n",
       "leopardo       7\n",
       "murcielago    20\n",
       "dtype: int64"
      ]
     },
     "execution_count": 18,
     "metadata": {},
     "output_type": "execute_result"
    }
   ],
   "source": [
    "s2[s2>3]"
   ]
  },
  {
   "cell_type": "code",
   "execution_count": 20,
   "id": "e5b1bb88-5046-4fd4-b95d-6a191afb4a46",
   "metadata": {},
   "outputs": [
    {
     "data": {
      "text/plain": [
       "murcielago    20\n",
       "gato           9\n",
       "leopardo       7\n",
       "perro          5\n",
       "pajaro         1\n",
       "dtype: int64"
      ]
     },
     "execution_count": 20,
     "metadata": {},
     "output_type": "execute_result"
    }
   ],
   "source": [
    "s2.sort_values(ascending=False)"
   ]
  },
  {
   "cell_type": "code",
   "execution_count": 21,
   "id": "bfbbad6d-c0fd-4db7-a598-af4f30cb4c16",
   "metadata": {},
   "outputs": [
    {
     "data": {
      "text/plain": [
       "gato           9\n",
       "leopardo       7\n",
       "murcielago    20\n",
       "pajaro         1\n",
       "perro          5\n",
       "dtype: int64"
      ]
     },
     "execution_count": 21,
     "metadata": {},
     "output_type": "execute_result"
    }
   ],
   "source": [
    "s2.sort_index(ascending=True)"
   ]
  },
  {
   "cell_type": "code",
   "execution_count": 24,
   "id": "496be726-68ae-4ffb-a2ea-8a7eb396f004",
   "metadata": {},
   "outputs": [],
   "source": [
    "s3=pd.Series({'perro':5, 'gato':9, \"leopardo\":7, 'murcielago':20, 'pajaro':1, 'Dragon': np.nan})"
   ]
  },
  {
   "cell_type": "code",
   "execution_count": 26,
   "id": "1ceacd47-a169-4cd4-900f-d3e2d19d1fa2",
   "metadata": {},
   "outputs": [
    {
     "name": "stdout",
     "output_type": "stream",
     "text": [
      "perro          5.0\n",
      "gato           9.0\n",
      "leopardo       7.0\n",
      "murcielago    20.0\n",
      "pajaro         1.0\n",
      "Dragon         NaN\n",
      "dtype: float64\n"
     ]
    }
   ],
   "source": [
    "print(s3)"
   ]
  },
  {
   "cell_type": "code",
   "execution_count": 29,
   "id": "aa046dd3-16c8-4625-ba0c-135eaa125acd",
   "metadata": {},
   "outputs": [
    {
     "name": "stdout",
     "output_type": "stream",
     "text": [
      "perro          5.0\n",
      "gato           9.0\n",
      "leopardo       7.0\n",
      "murcielago    20.0\n",
      "pajaro         1.0\n",
      "dtype: float64\n"
     ]
    }
   ],
   "source": [
    "print(s3.dropna())"
   ]
  },
  {
   "cell_type": "code",
   "execution_count": null,
   "id": "9f0cee70-5406-4e22-88aa-df8be68dc583",
   "metadata": {},
   "outputs": [],
   "source": []
  }
 ],
 "metadata": {
  "kernelspec": {
   "display_name": "Python 3 (ipykernel)",
   "language": "python",
   "name": "python3"
  },
  "language_info": {
   "codemirror_mode": {
    "name": "ipython",
    "version": 3
   },
   "file_extension": ".py",
   "mimetype": "text/x-python",
   "name": "python",
   "nbconvert_exporter": "python",
   "pygments_lexer": "ipython3",
   "version": "3.13.4"
  }
 },
 "nbformat": 4,
 "nbformat_minor": 5
}
