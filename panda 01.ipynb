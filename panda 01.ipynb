{
 "cells": [
  {
   "cell_type": "code",
   "execution_count": 1,
   "id": "a7190e6c-b3c0-4b76-ab7d-a6855052aa7d",
   "metadata": {},
   "outputs": [],
   "source": [
    "import pandas as pd\n"
   ]
  },
  {
   "cell_type": "code",
   "execution_count": 4,
   "id": "4785717d-9e5d-47f0-baf7-a8e31b69e047",
   "metadata": {},
   "outputs": [],
   "source": [
    "serie=pd.Series([\"perro\" , \"gato\" , \"gallo\" , \"conejo\" , \"gusano\"], dtype=\"string\")"
   ]
  },
  {
   "cell_type": "code",
   "execution_count": 5,
   "id": "64b8d681-0751-46f1-a8c8-92fd7eb40620",
   "metadata": {},
   "outputs": [
    {
     "name": "stdout",
     "output_type": "stream",
     "text": [
      "0     perro\n",
      "1      gato\n",
      "2     gallo\n",
      "3    conejo\n",
      "4    gusano\n",
      "dtype: string\n"
     ]
    }
   ],
   "source": [
    "print(serie)"
   ]
  },
  {
   "cell_type": "code",
   "execution_count": 7,
   "id": "38dbc472-1855-423d-89c3-bc189412cc59",
   "metadata": {},
   "outputs": [],
   "source": [
    "serie2=pd.Series({\"perro\":5 , \"gato\":8 , \"gallo\":3 , \"conejo\":5 , \"gusano\":9})\n",
    "    "
   ]
  },
  {
   "cell_type": "code",
   "execution_count": 8,
   "id": "3ecf6686-3cdd-484a-b250-cf4a0801c2c7",
   "metadata": {},
   "outputs": [
    {
     "name": "stdout",
     "output_type": "stream",
     "text": [
      "perro     5\n",
      "gato      8\n",
      "gallo     3\n",
      "conejo    5\n",
      "gusano    9\n",
      "dtype: int64\n"
     ]
    }
   ],
   "source": [
    "print(serie2)"
   ]
  },
  {
   "cell_type": "code",
   "execution_count": 9,
   "id": "dcd1e3a1-822f-446d-81c1-8c140d383e02",
   "metadata": {},
   "outputs": [
    {
     "data": {
      "text/plain": [
       "5"
      ]
     },
     "execution_count": 9,
     "metadata": {},
     "output_type": "execute_result"
    }
   ],
   "source": [
    "serie.size"
   ]
  },
  {
   "cell_type": "code",
   "execution_count": 10,
   "id": "9724bfc4-3727-4b19-b406-85b8292d302c",
   "metadata": {},
   "outputs": [
    {
     "data": {
      "text/plain": [
       "RangeIndex(start=0, stop=5, step=1)"
      ]
     },
     "execution_count": 10,
     "metadata": {},
     "output_type": "execute_result"
    }
   ],
   "source": [
    "serie.index"
   ]
  },
  {
   "cell_type": "code",
   "execution_count": 11,
   "id": "4004b7c0-0d8f-4981-b1df-112370dd217d",
   "metadata": {},
   "outputs": [
    {
     "data": {
      "text/plain": [
       "string[python]"
      ]
     },
     "execution_count": 11,
     "metadata": {},
     "output_type": "execute_result"
    }
   ],
   "source": [
    "serie.dtype"
   ]
  },
  {
   "cell_type": "code",
   "execution_count": 12,
   "id": "406113e1-5367-4d3e-905a-3e8704c4784c",
   "metadata": {},
   "outputs": [
    {
     "data": {
      "text/plain": [
       "Index(['perro', 'gato', 'gallo', 'conejo', 'gusano'], dtype='object')"
      ]
     },
     "execution_count": 12,
     "metadata": {},
     "output_type": "execute_result"
    }
   ],
   "source": [
    "serie2.index"
   ]
  },
  {
   "cell_type": "code",
   "execution_count": null,
   "id": "64579848-14d2-45e1-b4b3-eedf70b6b3b4",
   "metadata": {},
   "outputs": [],
   "source": []
  }
 ],
 "metadata": {
  "kernelspec": {
   "display_name": "Python 3 (ipykernel)",
   "language": "python",
   "name": "python3"
  },
  "language_info": {
   "codemirror_mode": {
    "name": "ipython",
    "version": 3
   },
   "file_extension": ".py",
   "mimetype": "text/x-python",
   "name": "python",
   "nbconvert_exporter": "python",
   "pygments_lexer": "ipython3",
   "version": "3.13.5"
  }
 },
 "nbformat": 4,
 "nbformat_minor": 5
}
